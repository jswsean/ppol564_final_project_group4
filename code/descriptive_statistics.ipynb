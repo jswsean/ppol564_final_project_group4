{
 "cells": [
  {
   "cell_type": "code",
   "execution_count": 1,
   "id": "c0231341",
   "metadata": {},
   "outputs": [],
   "source": [
    "# loading the required packages\n",
    "import pandas as pd\n",
    "import numpy as np\n",
    "import datetime\n",
    "import random\n",
    "import re\n",
    "import os\n",
    "import plotnine\n",
    "from plotnine import *\n",
    "\n",
    "# for repeated printouts \n",
    "from IPython.core.interactiveshell import InteractiveShell\n",
    "InteractiveShell.ast_node_interactivity = \"all\"\n",
    "\n",
    "# to custom displays of row-column df printouts\n",
    "pd.set_option('display.max_columns', None)\n",
    "pd.set_option('display.max_rows', 100)"
   ]
  },
  {
   "cell_type": "markdown",
   "id": "5ad1019c",
   "metadata": {},
   "source": [
    "# Data load"
   ]
  },
  {
   "cell_type": "code",
   "execution_count": 2,
   "id": "6d1d985c",
   "metadata": {},
   "outputs": [
    {
     "name": "stderr",
     "output_type": "stream",
     "text": [
      "C:\\Users\\Sean Hambali\\AppData\\Local\\Temp\\ipykernel_7920\\2900819892.py:6: DtypeWarning: Columns (10,11,14,25) have mixed types. Specify dtype option on import or set low_memory=False.\n"
     ]
    }
   ],
   "source": [
    "# importing the intake and sentencing csv data, and focusing only on black or white defendants\n",
    "intake_bw = pd.read_csv('../data/csv/intake_analysis.csv')\n",
    "intake_bw = intake_bw[(intake_bw.is_black == True) | (intake_bw.is_white == True)].copy()\n",
    "\n",
    "# now, we load the sentencing data\n",
    "sentencing_bw = pd.read_csv('../data/csv/sentencing_analysis.csv')\n",
    "sentencing_bw = sentencing_bw[(sentencing_bw.is_black == True) | (sentencing_bw.is_white == True)].copy()"
   ]
  },
  {
   "cell_type": "markdown",
   "id": "fe206c45",
   "metadata": {},
   "source": [
    "# Summary statistics"
   ]
  },
  {
   "cell_type": "code",
   "execution_count": null,
   "id": "552a9fe1",
   "metadata": {},
   "outputs": [],
   "source": []
  }
 ],
 "metadata": {
  "kernelspec": {
   "display_name": "Python 3 (ipykernel)",
   "language": "python",
   "name": "python3"
  },
  "language_info": {
   "codemirror_mode": {
    "name": "ipython",
    "version": 3
   },
   "file_extension": ".py",
   "mimetype": "text/x-python",
   "name": "python",
   "nbconvert_exporter": "python",
   "pygments_lexer": "ipython3",
   "version": "3.9.12"
  }
 },
 "nbformat": 4,
 "nbformat_minor": 5
}

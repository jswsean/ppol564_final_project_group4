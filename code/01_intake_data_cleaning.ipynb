{
 "cells": [
  {
   "cell_type": "markdown",
   "id": "f527e8e7",
   "metadata": {},
   "source": [
    "# Pre-amble"
   ]
  },
  {
   "cell_type": "code",
   "execution_count": 1,
   "id": "72da3610",
   "metadata": {},
   "outputs": [],
   "source": [
    "# loading the required packages\n",
    "import pandas as pd\n",
    "import numpy as np # Data load and basic dataset informationumpy as np\n",
    "import datetime\n",
    "import random\n",
    "import re\n",
    "import os\n",
    "from dateutil import relativedelta\n",
    "import math\n",
    "#import plotnine\n",
    "#from plotnine import *\n",
    "\n",
    "# for repeated printouts \n",
    "from IPython.core.interactiveshell import InteractiveShell\n",
    "InteractiveShell.ast_node_interactivity = \"all\"\n",
    "\n",
    "# to custom displays of row-column df printouts\n",
    "pd.set_option('display.max_columns', None)\n",
    "pd.set_option('display.max_rows', 100)"
   ]
  },
  {
   "cell_type": "markdown",
   "id": "23f7d40a",
   "metadata": {},
   "source": [
    "# Data load and basic dataset information"
   ]
  },
  {
   "cell_type": "markdown",
   "id": "8f648c5e",
   "metadata": {},
   "source": [
    "We first load the intake data:"
   ]
  },
  {
   "cell_type": "code",
   "execution_count": 2,
   "id": "5fb8c872",
   "metadata": {},
   "outputs": [],
   "source": [
    "intake_raw = pd.read_csv('../Data/intake.csv')"
   ]
  },
  {
   "cell_type": "code",
   "execution_count": 3,
   "id": "123d0a14",
   "metadata": {
    "scrolled": false
   },
   "outputs": [
    {
     "name": "stdout",
     "output_type": "stream",
     "text": [
      "The shape of the `intake_raw` dataset: (467698, 17)\n"
     ]
    },
    {
     "data": {
      "text/html": [
       "<div>\n",
       "<style scoped>\n",
       "    .dataframe tbody tr th:only-of-type {\n",
       "        vertical-align: middle;\n",
       "    }\n",
       "\n",
       "    .dataframe tbody tr th {\n",
       "        vertical-align: top;\n",
       "    }\n",
       "\n",
       "    .dataframe thead th {\n",
       "        text-align: right;\n",
       "    }\n",
       "</style>\n",
       "<table border=\"1\" class=\"dataframe\">\n",
       "  <thead>\n",
       "    <tr style=\"text-align: right;\">\n",
       "      <th></th>\n",
       "      <th>CASE_ID</th>\n",
       "      <th>CASE_PARTICIPANT_ID</th>\n",
       "      <th>RECEIVED_DATE</th>\n",
       "      <th>OFFENSE_CATEGORY</th>\n",
       "      <th>PARTICIPANT_STATUS</th>\n",
       "      <th>AGE_AT_INCIDENT</th>\n",
       "      <th>RACE</th>\n",
       "      <th>GENDER</th>\n",
       "      <th>INCIDENT_CITY</th>\n",
       "      <th>INCIDENT_BEGIN_DATE</th>\n",
       "      <th>INCIDENT_END_DATE</th>\n",
       "      <th>LAW_ENFORCEMENT_AGENCY</th>\n",
       "      <th>LAW_ENFORCEMENT_UNIT</th>\n",
       "      <th>ARREST_DATE</th>\n",
       "      <th>FELONY_REVIEW_DATE</th>\n",
       "      <th>FELONY_REVIEW_RESULT</th>\n",
       "      <th>UPDATE_OFFENSE_CATEGORY</th>\n",
       "    </tr>\n",
       "  </thead>\n",
       "  <tbody>\n",
       "    <tr>\n",
       "      <th>0</th>\n",
       "      <td>288191106116</td>\n",
       "      <td>102402970877</td>\n",
       "      <td>05/24/2011</td>\n",
       "      <td>PROMIS Conversion</td>\n",
       "      <td>Continued Investigation</td>\n",
       "      <td>25.0</td>\n",
       "      <td>Black</td>\n",
       "      <td>Male</td>\n",
       "      <td>NaN</td>\n",
       "      <td>03/12/2007</td>\n",
       "      <td>NaN</td>\n",
       "      <td>PROMIS Data Conversion</td>\n",
       "      <td>NaN</td>\n",
       "      <td>04/03/2007 12:00:00 AM</td>\n",
       "      <td>05/24/2011</td>\n",
       "      <td>Approved</td>\n",
       "      <td>PROMIS Conversion</td>\n",
       "    </tr>\n",
       "    <tr>\n",
       "      <th>1</th>\n",
       "      <td>288191106116</td>\n",
       "      <td>102403017038</td>\n",
       "      <td>05/24/2011</td>\n",
       "      <td>PROMIS Conversion</td>\n",
       "      <td>Approved</td>\n",
       "      <td>22.0</td>\n",
       "      <td>Black</td>\n",
       "      <td>Male</td>\n",
       "      <td>NaN</td>\n",
       "      <td>03/12/2007</td>\n",
       "      <td>NaN</td>\n",
       "      <td>PROMIS Data Conversion</td>\n",
       "      <td>NaN</td>\n",
       "      <td>05/22/2011 06:51:00 PM</td>\n",
       "      <td>05/24/2011</td>\n",
       "      <td>Approved</td>\n",
       "      <td>PROMIS Conversion</td>\n",
       "    </tr>\n",
       "    <tr>\n",
       "      <th>2</th>\n",
       "      <td>288191106116</td>\n",
       "      <td>102403063200</td>\n",
       "      <td>05/24/2011</td>\n",
       "      <td>PROMIS Conversion</td>\n",
       "      <td>Continued Investigation</td>\n",
       "      <td>19.0</td>\n",
       "      <td>Black</td>\n",
       "      <td>Male</td>\n",
       "      <td>NaN</td>\n",
       "      <td>03/12/2007</td>\n",
       "      <td>NaN</td>\n",
       "      <td>PROMIS Data Conversion</td>\n",
       "      <td>NaN</td>\n",
       "      <td>NaN</td>\n",
       "      <td>05/24/2011</td>\n",
       "      <td>Approved</td>\n",
       "      <td>PROMIS Conversion</td>\n",
       "    </tr>\n",
       "    <tr>\n",
       "      <th>3</th>\n",
       "      <td>295479479935</td>\n",
       "      <td>107142346781</td>\n",
       "      <td>01/27/2012</td>\n",
       "      <td>PROMIS Conversion</td>\n",
       "      <td>Approved</td>\n",
       "      <td>NaN</td>\n",
       "      <td>Black</td>\n",
       "      <td>Male</td>\n",
       "      <td>NaN</td>\n",
       "      <td>06/25/2009</td>\n",
       "      <td>NaN</td>\n",
       "      <td>CPD SPEC INV-YOUTH</td>\n",
       "      <td>NaN</td>\n",
       "      <td>07/14/2009 02:34:00 PM</td>\n",
       "      <td>07/14/2009</td>\n",
       "      <td>Charge(S) Approved</td>\n",
       "      <td>PROMIS Conversion</td>\n",
       "    </tr>\n",
       "    <tr>\n",
       "      <th>4</th>\n",
       "      <td>313304913049</td>\n",
       "      <td>107031421288</td>\n",
       "      <td>01/31/2011</td>\n",
       "      <td>PROMIS Conversion</td>\n",
       "      <td>Approved</td>\n",
       "      <td>37.0</td>\n",
       "      <td>HISPANIC</td>\n",
       "      <td>Male</td>\n",
       "      <td>NaN</td>\n",
       "      <td>04/07/2010</td>\n",
       "      <td>NaN</td>\n",
       "      <td>SPEC. OPERATIONS</td>\n",
       "      <td>NaN</td>\n",
       "      <td>04/07/2010 08:40:00 PM</td>\n",
       "      <td>NaN</td>\n",
       "      <td>NaN</td>\n",
       "      <td>PROMIS Conversion</td>\n",
       "    </tr>\n",
       "    <tr>\n",
       "      <th>5</th>\n",
       "      <td>313304913049</td>\n",
       "      <td>340245967874</td>\n",
       "      <td>01/31/2011</td>\n",
       "      <td>PROMIS Conversion</td>\n",
       "      <td>Approved</td>\n",
       "      <td>29.0</td>\n",
       "      <td>HISPANIC</td>\n",
       "      <td>Male</td>\n",
       "      <td>NaN</td>\n",
       "      <td>04/07/2010</td>\n",
       "      <td>NaN</td>\n",
       "      <td>SPEC. OPERATIONS</td>\n",
       "      <td>NaN</td>\n",
       "      <td>04/07/2010 08:44:00 PM</td>\n",
       "      <td>NaN</td>\n",
       "      <td>NaN</td>\n",
       "      <td>PROMIS Conversion</td>\n",
       "    </tr>\n",
       "    <tr>\n",
       "      <th>6</th>\n",
       "      <td>317478798047</td>\n",
       "      <td>107243162958</td>\n",
       "      <td>04/15/2011</td>\n",
       "      <td>PROMIS Conversion</td>\n",
       "      <td>Approved</td>\n",
       "      <td>24.0</td>\n",
       "      <td>Black</td>\n",
       "      <td>Female</td>\n",
       "      <td>NaN</td>\n",
       "      <td>02/06/2010</td>\n",
       "      <td>NaN</td>\n",
       "      <td>C P D AREA 5 DIST 25</td>\n",
       "      <td>NaN</td>\n",
       "      <td>02/06/2010 12:00:00 AM</td>\n",
       "      <td>02/06/2010</td>\n",
       "      <td>Charge(S) Approved</td>\n",
       "      <td>PROMIS Conversion</td>\n",
       "    </tr>\n",
       "    <tr>\n",
       "      <th>7</th>\n",
       "      <td>505746802102</td>\n",
       "      <td>347300376805</td>\n",
       "      <td>01/31/2011</td>\n",
       "      <td>UUW - Unlawful Use of Weapon</td>\n",
       "      <td>Approved</td>\n",
       "      <td>34.0</td>\n",
       "      <td>Black</td>\n",
       "      <td>Male</td>\n",
       "      <td>Chicago</td>\n",
       "      <td>12/15/2010</td>\n",
       "      <td>NaN</td>\n",
       "      <td>CHICAGO PD</td>\n",
       "      <td>NaN</td>\n",
       "      <td>12/15/2010 08:40:00 PM</td>\n",
       "      <td>12/16/2010</td>\n",
       "      <td>Approved</td>\n",
       "      <td>Narcotics</td>\n",
       "    </tr>\n",
       "    <tr>\n",
       "      <th>8</th>\n",
       "      <td>505746802102</td>\n",
       "      <td>347347276638</td>\n",
       "      <td>01/31/2011</td>\n",
       "      <td>UUW - Unlawful Use of Weapon</td>\n",
       "      <td>Approved</td>\n",
       "      <td>27.0</td>\n",
       "      <td>Black</td>\n",
       "      <td>Male</td>\n",
       "      <td>Chicago</td>\n",
       "      <td>12/15/2010</td>\n",
       "      <td>NaN</td>\n",
       "      <td>CHICAGO PD</td>\n",
       "      <td>NaN</td>\n",
       "      <td>12/15/2010 08:40:00 PM</td>\n",
       "      <td>12/16/2010</td>\n",
       "      <td>Approved</td>\n",
       "      <td>Narcotics</td>\n",
       "    </tr>\n",
       "    <tr>\n",
       "      <th>9</th>\n",
       "      <td>505761173380</td>\n",
       "      <td>347314548310</td>\n",
       "      <td>07/17/2011</td>\n",
       "      <td>Homicide</td>\n",
       "      <td>Approved</td>\n",
       "      <td>41.0</td>\n",
       "      <td>White [Hispanic or Latino]</td>\n",
       "      <td>Male</td>\n",
       "      <td>Chicago</td>\n",
       "      <td>07/17/2011</td>\n",
       "      <td>NaN</td>\n",
       "      <td>CHICAGO PD</td>\n",
       "      <td>NaN</td>\n",
       "      <td>07/17/2011 07:05:00 PM</td>\n",
       "      <td>07/17/2011</td>\n",
       "      <td>Felony Review</td>\n",
       "      <td>Homicide</td>\n",
       "    </tr>\n",
       "  </tbody>\n",
       "</table>\n",
       "</div>"
      ],
      "text/plain": [
       "        CASE_ID  CASE_PARTICIPANT_ID RECEIVED_DATE  \\\n",
       "0  288191106116         102402970877    05/24/2011   \n",
       "1  288191106116         102403017038    05/24/2011   \n",
       "2  288191106116         102403063200    05/24/2011   \n",
       "3  295479479935         107142346781    01/27/2012   \n",
       "4  313304913049         107031421288    01/31/2011   \n",
       "5  313304913049         340245967874    01/31/2011   \n",
       "6  317478798047         107243162958    04/15/2011   \n",
       "7  505746802102         347300376805    01/31/2011   \n",
       "8  505746802102         347347276638    01/31/2011   \n",
       "9  505761173380         347314548310    07/17/2011   \n",
       "\n",
       "               OFFENSE_CATEGORY       PARTICIPANT_STATUS  AGE_AT_INCIDENT  \\\n",
       "0             PROMIS Conversion  Continued Investigation             25.0   \n",
       "1             PROMIS Conversion                 Approved             22.0   \n",
       "2             PROMIS Conversion  Continued Investigation             19.0   \n",
       "3             PROMIS Conversion                 Approved              NaN   \n",
       "4             PROMIS Conversion                 Approved             37.0   \n",
       "5             PROMIS Conversion                 Approved             29.0   \n",
       "6             PROMIS Conversion                 Approved             24.0   \n",
       "7  UUW - Unlawful Use of Weapon                 Approved             34.0   \n",
       "8  UUW - Unlawful Use of Weapon                 Approved             27.0   \n",
       "9                      Homicide                 Approved             41.0   \n",
       "\n",
       "                         RACE  GENDER INCIDENT_CITY INCIDENT_BEGIN_DATE  \\\n",
       "0                       Black    Male           NaN          03/12/2007   \n",
       "1                       Black    Male           NaN          03/12/2007   \n",
       "2                       Black    Male           NaN          03/12/2007   \n",
       "3                       Black    Male           NaN          06/25/2009   \n",
       "4                    HISPANIC    Male           NaN          04/07/2010   \n",
       "5                    HISPANIC    Male           NaN          04/07/2010   \n",
       "6                       Black  Female           NaN          02/06/2010   \n",
       "7                       Black    Male       Chicago          12/15/2010   \n",
       "8                       Black    Male       Chicago          12/15/2010   \n",
       "9  White [Hispanic or Latino]    Male       Chicago          07/17/2011   \n",
       "\n",
       "  INCIDENT_END_DATE  LAW_ENFORCEMENT_AGENCY LAW_ENFORCEMENT_UNIT  \\\n",
       "0               NaN  PROMIS Data Conversion                  NaN   \n",
       "1               NaN  PROMIS Data Conversion                  NaN   \n",
       "2               NaN  PROMIS Data Conversion                  NaN   \n",
       "3               NaN      CPD SPEC INV-YOUTH                  NaN   \n",
       "4               NaN        SPEC. OPERATIONS                  NaN   \n",
       "5               NaN        SPEC. OPERATIONS                  NaN   \n",
       "6               NaN    C P D AREA 5 DIST 25                  NaN   \n",
       "7               NaN              CHICAGO PD                  NaN   \n",
       "8               NaN              CHICAGO PD                  NaN   \n",
       "9               NaN              CHICAGO PD                  NaN   \n",
       "\n",
       "              ARREST_DATE FELONY_REVIEW_DATE FELONY_REVIEW_RESULT  \\\n",
       "0  04/03/2007 12:00:00 AM         05/24/2011             Approved   \n",
       "1  05/22/2011 06:51:00 PM         05/24/2011             Approved   \n",
       "2                     NaN         05/24/2011             Approved   \n",
       "3  07/14/2009 02:34:00 PM         07/14/2009   Charge(S) Approved   \n",
       "4  04/07/2010 08:40:00 PM                NaN                  NaN   \n",
       "5  04/07/2010 08:44:00 PM                NaN                  NaN   \n",
       "6  02/06/2010 12:00:00 AM         02/06/2010   Charge(S) Approved   \n",
       "7  12/15/2010 08:40:00 PM         12/16/2010             Approved   \n",
       "8  12/15/2010 08:40:00 PM         12/16/2010             Approved   \n",
       "9  07/17/2011 07:05:00 PM         07/17/2011        Felony Review   \n",
       "\n",
       "  UPDATE_OFFENSE_CATEGORY  \n",
       "0       PROMIS Conversion  \n",
       "1       PROMIS Conversion  \n",
       "2       PROMIS Conversion  \n",
       "3       PROMIS Conversion  \n",
       "4       PROMIS Conversion  \n",
       "5       PROMIS Conversion  \n",
       "6       PROMIS Conversion  \n",
       "7               Narcotics  \n",
       "8               Narcotics  \n",
       "9                Homicide  "
      ]
     },
     "execution_count": 3,
     "metadata": {},
     "output_type": "execute_result"
    },
    {
     "name": "stdout",
     "output_type": "stream",
     "text": [
      "Data types of the `intake_raw` dataset column: CASE_ID                      int64\n",
      "CASE_PARTICIPANT_ID          int64\n",
      "RECEIVED_DATE               object\n",
      "OFFENSE_CATEGORY            object\n",
      "PARTICIPANT_STATUS          object\n",
      "AGE_AT_INCIDENT            float64\n",
      "RACE                        object\n",
      "GENDER                      object\n",
      "INCIDENT_CITY               object\n",
      "INCIDENT_BEGIN_DATE         object\n",
      "INCIDENT_END_DATE           object\n",
      "LAW_ENFORCEMENT_AGENCY      object\n",
      "LAW_ENFORCEMENT_UNIT        object\n",
      "ARREST_DATE                 object\n",
      "FELONY_REVIEW_DATE          object\n",
      "FELONY_REVIEW_RESULT        object\n",
      "UPDATE_OFFENSE_CATEGORY     object\n",
      "dtype: object\n"
     ]
    }
   ],
   "source": [
    "# printing the data shape \n",
    "print(\"The shape of the `intake_raw` dataset: \" + str(intake_raw.shape))\n",
    "\n",
    "# printing the data head\n",
    "intake_raw.head(n=10)\n",
    "\n",
    "# printing the data types\n",
    "print(\"Data types of the `intake_raw` dataset column: \" + str(intake_raw.dtypes))"
   ]
  },
  {
   "cell_type": "markdown",
   "id": "87b119f8",
   "metadata": {},
   "source": [
    "Key row identifiers in the dataset: `CASE_ID`, `CASE_PARTICIPANT_ID`"
   ]
  },
  {
   "cell_type": "code",
   "execution_count": 4,
   "id": "e70fa887",
   "metadata": {},
   "outputs": [
    {
     "name": "stdout",
     "output_type": "stream",
     "text": [
      "Number of unique CASE_ID: 423231\n",
      "Number of unique CASE_PARTICIPANT_ID: 467698\n"
     ]
    }
   ],
   "source": [
    "# How many CASE_ID?\n",
    "print(\"Number of unique CASE_ID: \" + str(len(pd.unique(intake_raw.CASE_ID)))) \n",
    "\n",
    "# how many CASE_PARTICIPANT_ID? \n",
    "print(\"Number of unique CASE_PARTICIPANT_ID: \" + str(len(pd.unique(intake_raw.CASE_PARTICIPANT_ID)))) "
   ]
  },
  {
   "cell_type": "markdown",
   "id": "88aa890a",
   "metadata": {},
   "source": [
    "Each row in the `intake_raw` dataset represents unique `CASE_PARTICIPANT_ID`. "
   ]
  },
  {
   "cell_type": "markdown",
   "id": "229c1590",
   "metadata": {},
   "source": [
    "# Data cleaning"
   ]
  },
  {
   "cell_type": "code",
   "execution_count": 5,
   "id": "035433e2",
   "metadata": {},
   "outputs": [],
   "source": [
    "# creating a copy of the raw data \n",
    "intake_cleaned = intake_raw.copy()"
   ]
  },
  {
   "cell_type": "markdown",
   "id": "4e67bdb9",
   "metadata": {},
   "source": [
    "## Basic demographics"
   ]
  },
  {
   "cell_type": "code",
   "execution_count": 6,
   "id": "be56073a",
   "metadata": {
    "scrolled": true
   },
   "outputs": [
    {
     "name": "stdout",
     "output_type": "stream",
     "text": [
      "Distribution of original `RACE` variable:\n"
     ]
    },
    {
     "data": {
      "text/plain": [
       "Black                               301419\n",
       "White [Hispanic or Latino]           67077\n",
       "White                                65671\n",
       "HISPANIC                             11535\n",
       "Asian                                 3176\n",
       "White/Black [Hispanic or Latino]      2308\n",
       "Unknown                                944\n",
       "American Indian                        190\n",
       "Biracial                                96\n",
       "ASIAN                                    8\n",
       "Albino                                   1\n",
       "CAUCASIAN                                1\n",
       "Name: RACE, dtype: int64"
      ]
     },
     "execution_count": 6,
     "metadata": {},
     "output_type": "execute_result"
    }
   ],
   "source": [
    "# cleaning the RACE variable\n",
    "print(\"Distribution of original `RACE` variable:\")\n",
    "intake_cleaned.RACE.value_counts()\n",
    "\n",
    "# defining some important race groups\n",
    "intake_cleaned['is_black'] = np.where(intake_cleaned.RACE.isin(['Black', 'White/Black [Hispanic or Latino]']), \n",
    "                                      True, False)\n",
    "\n",
    "intake_cleaned['is_hispanic'] = np.where(intake_cleaned.RACE.isin(['HISPANIC', 'White [Hispanic or Latino]']), \n",
    "                                         True, False)\n",
    "\n",
    "intake_cleaned['is_white'] = np.where(intake_cleaned.RACE.isin(['White', 'CAUCASIAN']), \n",
    "                                      True, False)\n",
    "\n",
    "# for the RACE columns, replace value with np.nan if RACE == 'Unknown' or RACE == 'Biracial' or Albino\n",
    "cond = intake_cleaned.RACE.isin(['Unknown', 'Biracial', 'Albino']) # defining the condition\n",
    "intake_cleaned.loc[cond, ['is_black', 'is_hisp', 'is_white']] = np.nan"
   ]
  },
  {
   "cell_type": "code",
   "execution_count": 7,
   "id": "fa6a3858",
   "metadata": {},
   "outputs": [
    {
     "name": "stdout",
     "output_type": "stream",
     "text": [
      "Distribution of original `GENDER` distribution:\n"
     ]
    },
    {
     "data": {
      "text/plain": [
       "Male                          394051\n",
       "Female                         60708\n",
       "Unknown                           23\n",
       "Unknown Gender                    21\n",
       "Male name, no gender given        19\n",
       "Name: GENDER, dtype: int64"
      ]
     },
     "execution_count": 7,
     "metadata": {},
     "output_type": "execute_result"
    },
    {
     "name": "stdout",
     "output_type": "stream",
     "text": [
      "Distribution of cleaned `is_female` distribution:\n"
     ]
    },
    {
     "data": {
      "text/plain": [
       "False    394070\n",
       "True      60708\n",
       "          12920\n",
       "Name: is_female, dtype: int64"
      ]
     },
     "execution_count": 7,
     "metadata": {},
     "output_type": "execute_result"
    }
   ],
   "source": [
    "# original GENDER distribution:\n",
    "print(\"Distribution of original `GENDER` distribution:\")\n",
    "intake_cleaned.GENDER.value_counts()\n",
    "\n",
    "# defining gender groups \n",
    "intake_cleaned['is_female'] = np.where(intake_cleaned.GENDER.isin(['Male', 'Male name, no gender given']), \n",
    "                                       False, np.where(intake_cleaned.GENDER.str.contains('Unknown'), \n",
    "                                                       \"\", True))\n",
    "\n",
    "# final look at the gender variable \n",
    "print(\"Distribution of cleaned `is_female` distribution:\")\n",
    "intake_cleaned.is_female.value_counts()"
   ]
  },
  {
   "cell_type": "code",
   "execution_count": 8,
   "id": "d69cbe14",
   "metadata": {
    "scrolled": false
   },
   "outputs": [
    {
     "name": "stdout",
     "output_type": "stream",
     "text": [
      "Summary statistics of original AGE_AT_INCIDENT variable:\n"
     ]
    },
    {
     "data": {
      "text/plain": [
       "count    453727.000000\n",
       "mean         33.774704\n",
       "std          12.407875\n",
       "min          17.000000\n",
       "25%          24.000000\n",
       "50%          31.000000\n",
       "75%          43.000000\n",
       "max         215.000000\n",
       "Name: AGE_AT_INCIDENT, dtype: float64"
      ]
     },
     "execution_count": 8,
     "metadata": {},
     "output_type": "execute_result"
    },
    {
     "name": "stdout",
     "output_type": "stream",
     "text": [
      "Summary statistics of cleaned age variable:\n"
     ]
    },
    {
     "data": {
      "text/plain": [
       "count    453727.000000\n",
       "mean         33.761936\n",
       "std          12.339959\n",
       "min          17.000000\n",
       "25%          24.000000\n",
       "50%          31.000000\n",
       "75%          43.000000\n",
       "max          81.000000\n",
       "Name: age_cleaned, dtype: float64"
      ]
     },
     "execution_count": 8,
     "metadata": {},
     "output_type": "execute_result"
    }
   ],
   "source": [
    "# original summary stat of age variable:\n",
    "print(\"Summary statistics of original AGE_AT_INCIDENT variable:\")\n",
    "intake_cleaned.AGE_AT_INCIDENT.describe()\n",
    "\n",
    "# there is an outlier (215 y.o. obs), winsorizing age column to 99.995th percentile\n",
    "intake_cleaned['age_cleaned'] = np.where(intake_cleaned.AGE_AT_INCIDENT >= \n",
    "                                         intake_cleaned.AGE_AT_INCIDENT.quantile(0.9995), \n",
    "                                         intake_cleaned.AGE_AT_INCIDENT.quantile(0.9995), \n",
    "                                         intake_cleaned.AGE_AT_INCIDENT)\n",
    "\n",
    "# printing the summary stat of new age variable\n",
    "print(\"Summary statistics of cleaned age variable:\")\n",
    "intake_cleaned.age_cleaned.describe()"
   ]
  },
  {
   "cell_type": "markdown",
   "id": "aa709bfd",
   "metadata": {},
   "source": [
    "<u>**Cleaning flags (if any)**</u>:\n",
    "\n",
    "1. `RACE`: \n",
    "    - How should we categorize *biracial* race group?\n",
    "    - I recoded `Unknown`, `Biracial`, `Albino` as NaN for each race definition\n",
    "    - What does `[Hispanic or Latino]` actually mean? In pset2, why did we not categorize `White/Black [Hispanic or Latino]` into the `is_hisp` definition?\n",
    "    \n",
    "    \n",
    "2. `GENDER`:\n",
    "    - I recoded rows containing `Unknown` as NaN\n",
    "    - `Male name, no gender given` is coded as `Male` (reasonable?).\n",
    "    \n",
    "\n",
    "3. `AGE_AT_INCIDENT`:\n",
    "    - As with pset2, I winsorized the age variable to 99.995th percentile"
   ]
  },
  {
   "cell_type": "markdown",
   "id": "7b100b09",
   "metadata": {},
   "source": [
    "## Cleaning datetime variables<a class=\"anchor\" id=\"datetime-variables\"></a>\n",
    "\n",
    "Here, we:\n",
    "\n",
    "* Clean up the defendant's felony review date (`FELONY_REVIEW_DATE`). We'll create a datetime object out of the field, and will separate year, month, and year-month component of the date.\n",
    "\n",
    "* Add several key treatment variables that will be of interest for the analysis\n",
    "\n",
    "* Add time relative indicators for the event study estimation"
   ]
  },
  {
   "cell_type": "code",
   "execution_count": 9,
   "id": "2c615062",
   "metadata": {},
   "outputs": [],
   "source": [
    "# we clean up the SENTENCE_DATE that have out-of-bound years\n",
    "intake_cleaned['felony_review_date'] = [re.sub(r'2[1-9]([0-9]+)', r'20\\1', str(date)) \n",
    "                                       if bool(re.search(r'2[1-9]([0-9]+)', str(date)))\n",
    "                                       else str(date) \n",
    "                                       for date in intake_cleaned.FELONY_REVIEW_DATE]\n",
    "\n",
    "# converting the FELONY_REVIEW_DATE to datetime\n",
    "intake_cleaned['felony_review_date'] = pd.to_datetime(intake_cleaned[\"felony_review_date\"])\n",
    "\n",
    "# creating a year, month, date columns \n",
    "intake_cleaned['felony_review_year'] = pd.DatetimeIndex(intake_cleaned['felony_review_date']).year\n",
    "intake_cleaned['felony_review_month'] = pd.DatetimeIndex(intake_cleaned['felony_review_date']).month\n",
    "intake_cleaned['felony_review_day'] = pd.DatetimeIndex(intake_cleaned['felony_review_date']).day\n",
    "intake_cleaned['felony_review_ym'] = intake_cleaned['felony_review_date'].dt.to_period('M')"
   ]
  },
  {
   "cell_type": "code",
   "execution_count": 10,
   "id": "ac25a487",
   "metadata": {
    "scrolled": true
   },
   "outputs": [],
   "source": [
    "# defining the treatment variables\n",
    "intake_cleaned['sa_office_period'] = np.where(intake_cleaned.felony_review_ym >= \"2016-12\", # SA Foxx assumed office in Dec 1, 2016\n",
    "                                              True, False)   \n",
    "\n",
    "intake_cleaned['sa_timedelta'] = (intake_cleaned.felony_review_year - 2016)*12 + \\\n",
    "                                 (intake_cleaned.felony_review_month - 12)\n",
    "\n",
    "intake_cleaned['sa_timedelta_days'] = (intake_cleaned['felony_review_date'] - pd.to_datetime(\"2016-12-01\")).dt.days\n",
    "\n",
    "intake_cleaned['sa_timedelta_wk'] = [math.floor(delta_days/7) if delta_days >= 0       # 2.14 weeks as 2 weeks\n",
    "                                     else math.ceil(delta_days/7) if delta_days < 0    # -3.14 weeks as -3 weeks\n",
    "                                     else np.nan\n",
    "                                     for delta_days in intake_cleaned.sa_timedelta_days]\n",
    "\n",
    "intake_cleaned['BRA_period'] = np.where(intake_cleaned.felony_review_ym >= \"2017-06\", # Bail Reform Act\n",
    "                                        True, False)\n",
    "\n",
    "intake_cleaned['BRA_timedelta'] = (intake_cleaned.felony_review_year - 2017)*12 + \\\n",
    "                                  (intake_cleaned.felony_review_month - 6)\n",
    "\n",
    "intake_cleaned['BRA_timedelta_days'] = (intake_cleaned['felony_review_date'] - pd.to_datetime(\"2017-06-12\")).dt.days\n",
    "\n",
    "intake_cleaned['BRA_timedelta_wk'] = [math.floor(delta_days/7) if delta_days >= 0       # 2.14 weeks as 2 weeks\n",
    "                                      else math.ceil(delta_days/7) if delta_days < 0    # -3.14 weeks as -3 weeks\n",
    "                                      else np.nan\n",
    "                                      for delta_days in intake_cleaned.BRA_timedelta_days]"
   ]
  },
  {
   "cell_type": "markdown",
   "id": "8915c3c9",
   "metadata": {},
   "source": [
    "<u>**Cleaning flags (if any)**</u>:\n",
    "\n",
    "1. `SENTENCE_DATE`: \n",
    "    - All out-of-bounds years (29, 22, etc instead of 20XX) are converted into 20XX. \n",
    "    - How do we clean up 2023-2024 though? (Currently, we're filtering against values > 2022 in the filtering stage)\n",
    "    \n",
    "\n",
    "2. Key treatment-related time variables:\n",
    "    - SA Kim Foxx entry: Value = 1 if December 2016 onwards, 0 if otherwise\n",
    "    - Bail reform act: Value = 1 if June 2017 onwards, 0 if otherwise\n",
    "    - For both indicators, relative time indicators are defined relative to the timing that corresponds to the start of value = 1"
   ]
  },
  {
   "cell_type": "markdown",
   "id": "31e5d006",
   "metadata": {},
   "source": [
    "## Cleaning felony review-related variables<a class=\"anchor\" id=\"felony-vars\"></a>"
   ]
  },
  {
   "cell_type": "markdown",
   "id": "be0263f6",
   "metadata": {},
   "source": [
    "Here, we define a broad category for felony review results:"
   ]
  },
  {
   "cell_type": "code",
   "execution_count": 11,
   "id": "2a26b716",
   "metadata": {},
   "outputs": [],
   "source": [
    "# defining three broad categories for felony review result:\n",
    "intake_cleaned['fr_is_approved'] = np.where(intake_cleaned.FELONY_REVIEW_RESULT.isin(['Approved', \n",
    "                                                                                      'Charge(S) Approved']), \n",
    "                                            True, False)\n",
    "intake_cleaned['fr_is_rejected'] = np.where(intake_cleaned.FELONY_REVIEW_RESULT.isin(['Rejected', \n",
    "                                                                                      'Disregard']), \n",
    "                                            True, False)## Cleaning felony review-related variables<a class=\"anchor\" id=\"felony-vars\"></a>\n",
    "intake_cleaned['fr_is_investigated'] = np.where(intake_cleaned.FELONY_REVIEW_RESULT == 'Continued Investigation', \n",
    "                                                True, False)"
   ]
  },
  {
   "cell_type": "markdown",
   "id": "e1eed756",
   "metadata": {},
   "source": [
    "# Exporting the dataset<a class=\"anchor\" id=\"data-export\"></a>"
   ]
  },
  {
   "cell_type": "markdown",
   "id": "6f7650f8",
   "metadata": {},
   "source": [
    "We then export the final `intake_cleaned` dataset into csv format, to be imported in the exploratory analysis notebook:"
   ]
  },
  {
   "cell_type": "code",
   "execution_count": 12,
   "id": "4e8ae519",
   "metadata": {},
   "outputs": [],
   "source": [
    "intake_cleaned.to_csv('../Data/intake_analysis.csv')"
   ]
  },
  {
   "cell_type": "code",
   "execution_count": null,
   "id": "fb29fed4",
   "metadata": {},
   "outputs": [],
   "source": []
  }
 ],
 "metadata": {
  "kernelspec": {
   "display_name": "Python 3 (ipykernel)",
   "language": "python",
   "name": "python3"
  },
  "language_info": {
   "codemirror_mode": {
    "name": "ipython",
    "version": 3
   },
   "file_extension": ".py",
   "mimetype": "text/x-python",
   "name": "python",
   "nbconvert_exporter": "python",
   "pygments_lexer": "ipython3",
   "version": "3.9.12"
  }
 },
 "nbformat": 4,
 "nbformat_minor": 5
}
